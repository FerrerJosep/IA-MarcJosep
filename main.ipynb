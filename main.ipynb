{
 "cells": [
  {
   "cell_type": "code",
   "execution_count": null,
   "metadata": {},
   "outputs": [],
   "source": [
    "from selenium import webdriver\n",
    "from selenium.webdriver.common.by import By\n",
    "from selenium.webdriver.chrome.service import Service\n",
    "from webdriver_manager.chrome import ChromeDriverManager\n",
    "\n",
    "# Configurar Selenium con Chrome en modo headless\n",
    "options = webdriver.ChromeOptions()\n",
    "options.add_argument(\"--headless\")  # No abrir ventana del navegador\n",
    "options.add_argument(\"--disable-blink-features=AutomationControlled\")  # Evitar detección de bot\n",
    "options.add_argument(\"start-maximized\")  \n",
    "options.add_argument(\"disable-infobars\")\n",
    "\n",
    "# Inicializar el driver\n",
    "driver = webdriver.Chrome(service=Service(ChromeDriverManager().install()), options=options)\n",
    "\n",
    "# URL de búsqueda en Amazon España\n",
    "url = \"https://www.amazon.es/s?k=mobil&__mk_es_ES=%C3%85M%C3%85%C5%BD%C3%95%C3%91&crid=18LZTS0F1Q8I7&sprefix=mobil%2Caps%2C125&ref=nb_sb_noss_1\"\n",
    "\n",
    "# Cargar la página\n",
    "driver.get(url)\n",
    "\n",
    "# Esperar a que se cargue el contenido dinámico\n",
    "driver.implicitly_wait(5)\n",
    "\n",
    "# Extraer todos los elementos con data-asin\n",
    "productos = driver.find_elements(By.CSS_SELECTOR, 'div[data-asin]')\n",
    "\n",
    "# Obtener los valores de data-asin (filtrando los vacíos)\n",
    "data_asins = [p.get_attribute(\"data-asin\") for p in productos if p.get_attribute(\"data-asin\")]\n",
    "\n",
    "# Imprimir los resultados\n",
    "print(data_asins)\n",
    "\n",
    "# guardar los resultados en un archivo\n",
    "with open(\"asins.txt\", \"w\") as f:\n",
    "    f.write(\"\\n\".join(data_asins))\n",
    "    \n",
    "# Cerrar el navegador\n",
    "driver.quit()\n"
   ]
  }
 ],
 "metadata": {
  "kernelspec": {
   "display_name": "gitvenv",
   "language": "python",
   "name": "python3"
  },
  "language_info": {
   "name": "python",
   "version": "3.13.0"
  }
 },
 "nbformat": 4,
 "nbformat_minor": 2
}
