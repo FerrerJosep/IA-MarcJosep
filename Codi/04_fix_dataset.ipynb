{
 "cells": [
  {
   "cell_type": "code",
   "execution_count": 149,
   "metadata": {},
   "outputs": [
    {
     "name": "stdout",
     "output_type": "stream",
     "text": [
      "Nombre de files: 1874\n",
      "Nombre de columnes: 24\n",
      "Nombre de valors nuls per columna:\n",
      "URL                           3\n",
      "Asin                         41\n",
      "Precio                       82\n",
      "Precio Inicial               82\n",
      "Título                        1\n",
      "Estrellas                   105\n",
      "Opiniones                   106\n",
      "Marca                        62\n",
      "Modelo                      127\n",
      "Año del modelo             1123\n",
      "Dimensiones                 348\n",
      "RAM                         746\n",
      "Memoria                     263\n",
      "Sistema operativo           916\n",
      "Resolución pantalla         682\n",
      "Tamaño pantalla            1678\n",
      "Relación aspecto           1441\n",
      "Peso                        143\n",
      "Tecnología conectividad     538\n",
      "Batería                    1855\n",
      "Cámara principal           1800\n",
      "Cámara frontal             1800\n",
      "Procesador                 1349\n",
      "Color                      1116\n",
      "dtype: int64\n"
     ]
    }
   ],
   "source": [
    "import pandas as pd\n",
    "\n",
    "db = pd.read_csv('../Data/mobils.csv')\n",
    "num_rows, num_columns = db.shape\n",
    "print(f\"Nombre de files: {num_rows}\")\n",
    "print(f\"Nombre de columnes: {num_columns}\")\n",
    "print(\"Nombre de valors nuls per columna:\")\n",
    "print(db.isnull().sum())"
   ]
  },
  {
   "cell_type": "code",
   "execution_count": 150,
   "metadata": {},
   "outputs": [],
   "source": [
    "import numpy as np\n",
    "db.loc[db['Opiniones'] < 10, 'Estrellas'] = np.nan"
   ]
  },
  {
   "cell_type": "code",
   "execution_count": 151,
   "metadata": {},
   "outputs": [],
   "source": [
    "db = db.drop(columns=[\"URL\", \"Asin\", \"Título\", \"Opiniones\", \"Sistema operativo\", \"Resolución pantalla\", \"Tecnología conectividad\", \"Batería\", \"Color\", \"Procesador\", \"Cámara frontal\", \"Cámara principal\", \"Relación aspecto\", \"Tamaño pantalla\", \"Año del modelo\"])"
   ]
  },
  {
   "cell_type": "code",
   "execution_count": 152,
   "metadata": {},
   "outputs": [
    {
     "name": "stdout",
     "output_type": "stream",
     "text": [
      "La moda de RAM és 8 GB\n",
      "La moda de Memoria és 128 GB\n",
      "La moda de Dimensiones és 50 x 50 x 28\n"
     ]
    }
   ],
   "source": [
    "columnas_moda = [\"RAM\", \"Memoria\", \"Dimensiones\"]\n",
    "\n",
    "for columna in columnas_moda:\n",
    "    moda = db[columna].mode()[0]\n",
    "    db[columna] = db[columna].fillna(moda)\n",
    "    print(f\"La moda de {columna} és {moda}\")"
   ]
  },
  {
   "cell_type": "code",
   "execution_count": 153,
   "metadata": {},
   "outputs": [],
   "source": [
    "db = db.dropna(subset=[\"Precio\", \"Precio Inicial\"])"
   ]
  },
  {
   "cell_type": "code",
   "execution_count": 154,
   "metadata": {},
   "outputs": [
    {
     "name": "stdout",
     "output_type": "stream",
     "text": [
      "La mean de Estrellas és 4.132142857142857\n",
      "La mean de Peso és 277.87590361445785\n"
     ]
    }
   ],
   "source": [
    "columnas_mean = [\"Estrellas\", \"Peso\"]\n",
    "\n",
    "for columna in columnas_mean:\n",
    "    mean = db[columna].mean()\n",
    "    db[columna] = db[columna].fillna(mean)\n",
    "    print(f\"La mean de {columna} és {mean}\")"
   ]
  },
  {
   "cell_type": "code",
   "execution_count": 155,
   "metadata": {},
   "outputs": [],
   "source": [
    "db = db.drop(columns=[])"
   ]
  },
  {
   "cell_type": "code",
   "execution_count": 156,
   "metadata": {},
   "outputs": [
    {
     "name": "stdout",
     "output_type": "stream",
     "text": [
      "Nombre de files: 1792\n",
      "Nombre de columnes: 9\n",
      "Nombre de valors nuls per columna:\n",
      "Precio              0\n",
      "Precio Inicial      0\n",
      "Estrellas           0\n",
      "Marca              59\n",
      "Modelo            118\n",
      "Dimensiones         0\n",
      "RAM                 0\n",
      "Memoria             0\n",
      "Peso                0\n",
      "dtype: int64\n"
     ]
    }
   ],
   "source": [
    "num_rows, num_columns = db.shape\n",
    "print(f\"Nombre de files: {num_rows}\")\n",
    "print(f\"Nombre de columnes: {num_columns}\")\n",
    "print(\"Nombre de valors nuls per columna:\")\n",
    "print(db.isnull().sum())"
   ]
  },
  {
   "cell_type": "code",
   "execution_count": 157,
   "metadata": {},
   "outputs": [
    {
     "data": {
      "text/plain": [
       "177"
      ]
     },
     "execution_count": 157,
     "metadata": {},
     "output_type": "execute_result"
    }
   ],
   "source": [
    "db['Marca'].nunique()"
   ]
  },
  {
   "cell_type": "code",
   "execution_count": 158,
   "metadata": {},
   "outputs": [
    {
     "data": {
      "text/plain": [
       "array(['realme', 'xiaomi', 'samsung', 'no', 'ulefone', 'aplimln',\n",
       "       'apple computer', 'microsoft', 'apple', 'hotwav', 'sony', 'cubot',\n",
       "       'msmga', 'generico', nan, '8849', 'xgody', 'oukitel',\n",
       "       'mcr infoelectronic,sl', 'ttfone', 'mcmgc', 'oscal', 'sewowibo',\n",
       "       'vivo', 'nothing', 'annadue', 'mcr infoelectronic', 'doogee',\n",
       "       'asus', 'sí', 'motorola', 'rainbuvvy', 'valmoni sport', 'honor',\n",
       "       'umidigi', 'blackview', 'merch por amazon', 'tech data',\n",
       "       'panasonic', 'mptech', 'osa', 'polarpro', 'wrtogo', 'zte', 'moft',\n",
       "       'mlk03ql/a-cr', 'alcatel', 'oppo', 'hmd global oy', 'rvelon',\n",
       "       'pthtechus', 'spc', 'nubia', 'toneof', 'high-tech place',\n",
       "       'beghelli', 'unihertz', 'zunate', 'gamesir', 'vikye', 'gowenic',\n",
       "       'jtqtj', 'zte corporation', 'hipipooo', 'qrzrq', 'maxcom',\n",
       "       'vbestlife', 'mvvkky', 'fossibot', 'jetech', 'tcl', 'telefunken',\n",
       "       'mq9x3zd/a', 'zokoe', 'shanwan', 'ati', 'adoc', 'mtgud',\n",
       "       'sxhlseller', 'jcb phone', 'dorland', 'poco', 'bezosmax i',\n",
       "       'nokia', 'huawei', 'google', 'bewinner', 'doro', 'haissky',\n",
       "       'tbest', 'pb6l0002se', 'sky royal trading ltd',\n",
       "       'head case designs', 'neoman', 'oakcastle', 'fine life pro',\n",
       "       'yiokii', 'thuraya', 'joyzap', 'inmarsat', 'jinpojun', 'fujifilm',\n",
       "       'hammer h', 'jnerbuyi', 'dpofirs', 'fkqq2ql/a', 'cmf by northing',\n",
       "       'airshi', 'oneplus', 'atevense', 'rantuo', 'sanhii', 'sweetlink',\n",
       "       'ciciglow', 'cat', 'uniwa', 'mgmk3zd/a-cr', 'isoi', 'redmi', 'dam',\n",
       "       'pb6l0005se', 'torro', 'yigou', 'mlvp3zd/a', 'emporia', 'qimhai',\n",
       "       'avenir telecom', 'pusokei', 'samsung electronics ltd', 'myphone',\n",
       "       '6902176123412', 'bigben connected', '7 - 12 años', 'qsnailfrr',\n",
       "       'goshyda', 'grefay', 'hyrich', 'qubo', 'reware', 'mirusi',\n",
       "       'lazmin112', 'logicom', 'mi', 'menook', 'trevi', 'iniu', 'ryman',\n",
       "       'instax', 'artfone', 'wiko', 'beafon', 'castillocarcasas',\n",
       "       'cuifati', 'mq9w3zd/a', 'joto', 'kwmobile', 'volfen', 'qhot', 'lg',\n",
       "       'mgda3zd/a-cr', 'nothing phone', 'lenovo', 'ashata', 'meizu',\n",
       "       'punkt', 'tcl communication ltd.', 'ukuu', 'qtshine', '53036',\n",
       "       'viqee', 'tingyr', 'cat phones', 'bullitt group ltd.', 'iling',\n",
       "       'edglete', 'mizhao', 'ljcm', 'generic'], dtype=object)"
      ]
     },
     "execution_count": 158,
     "metadata": {},
     "output_type": "execute_result"
    }
   ],
   "source": [
    "db['Marca'].unique()"
   ]
  },
  {
   "cell_type": "code",
   "execution_count": 159,
   "metadata": {},
   "outputs": [
    {
     "data": {
      "text/plain": [
       "1388"
      ]
     },
     "execution_count": 159,
     "metadata": {},
     "output_type": "execute_result"
    }
   ],
   "source": [
    "db['Modelo'].nunique()"
   ]
  },
  {
   "cell_type": "code",
   "execution_count": 160,
   "metadata": {},
   "outputs": [],
   "source": [
    "db = db.drop(columns=['Modelo'])"
   ]
  },
  {
   "cell_type": "code",
   "execution_count": 161,
   "metadata": {},
   "outputs": [
    {
     "name": "stdout",
     "output_type": "stream",
     "text": [
      "Nombre de files: 1792\n",
      "Nombre de columnes: 8\n",
      "Nombre de valors nuls per columna:\n",
      "Precio             0\n",
      "Precio Inicial     0\n",
      "Estrellas          0\n",
      "Marca             59\n",
      "Dimensiones        0\n",
      "RAM                0\n",
      "Memoria            0\n",
      "Peso               0\n",
      "dtype: int64\n"
     ]
    }
   ],
   "source": [
    "num_rows, num_columns = db.shape\n",
    "print(f\"Nombre de files: {num_rows}\")\n",
    "print(f\"Nombre de columnes: {num_columns}\")\n",
    "print(\"Nombre de valors nuls per columna:\")\n",
    "print(db.isnull().sum())"
   ]
  }
 ],
 "metadata": {
  "kernelspec": {
   "display_name": "env_12",
   "language": "python",
   "name": "python3"
  },
  "language_info": {
   "codemirror_mode": {
    "name": "ipython",
    "version": 3
   },
   "file_extension": ".py",
   "mimetype": "text/x-python",
   "name": "python",
   "nbconvert_exporter": "python",
   "pygments_lexer": "ipython3",
   "version": "3.12.7"
  }
 },
 "nbformat": 4,
 "nbformat_minor": 2
}
