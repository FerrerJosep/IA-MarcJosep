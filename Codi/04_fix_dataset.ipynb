{
 "cells": [
  {
   "cell_type": "code",
   "execution_count": 14,
   "metadata": {},
   "outputs": [
    {
     "name": "stdout",
     "output_type": "stream",
     "text": [
      "Nombre de files: 1874\n",
      "Nombre de columnes: 24\n",
      "Nombre de valors nuls per columna:\n",
      "URL                           3\n",
      "Asin                         41\n",
      "Precio                       82\n",
      "Precio Inicial               82\n",
      "Título                        1\n",
      "Estrellas                   105\n",
      "Opiniones                   106\n",
      "Marca                        59\n",
      "Modelo                      126\n",
      "Año del modelo             1123\n",
      "Dimensiones                 185\n",
      "RAM                         231\n",
      "Memoria                     234\n",
      "Sistema operativo           916\n",
      "Resolución pantalla         658\n",
      "Tamaño pantalla            1693\n",
      "Relación aspecto           1441\n",
      "Peso                        143\n",
      "Tecnología conectividad     538\n",
      "Batería                    1855\n",
      "Cámara principal           1800\n",
      "Cámara frontal             1800\n",
      "Procesador                 1349\n",
      "Color                      1116\n",
      "dtype: int64\n"
     ]
    }
   ],
   "source": [
    "import pandas as pd\n",
    "\n",
    "db = pd.read_csv('../Data/mobils.csv')\n",
    "num_rows, num_columns = db.shape\n",
    "print(f\"Nombre de files: {num_rows}\")\n",
    "print(f\"Nombre de columnes: {num_columns}\")\n",
    "print(\"Nombre de valors nuls per columna:\")\n",
    "print(db.isnull().sum())"
   ]
  },
  {
   "cell_type": "code",
   "execution_count": 15,
   "metadata": {},
   "outputs": [],
   "source": [
    "db = db.drop(columns=[\"Batería\", \"Color\", \"Procesador\", \"Cámara frontal\", \"Cámara principal\", \"Relación aspecto\", \"Tamaño pantalla\", \"Año del modelo\"])"
   ]
  },
  {
   "cell_type": "code",
   "execution_count": 16,
   "metadata": {},
   "outputs": [
    {
     "name": "stdout",
     "output_type": "stream",
     "text": [
      "La moda de RAM és 8 GB\n",
      "La moda de Memoria és 128 GB\n",
      "La moda de Marca és ‎No\n",
      "La moda de Modelo és Redmi 14C\n"
     ]
    }
   ],
   "source": [
    "columnas_moda = [\"RAM\", \"Memoria\", \"Marca\", \"Modelo\"]\n",
    "\n",
    "for columna in columnas_moda:\n",
    "    moda = db[columna].mode()[0]\n",
    "    db[columna] = db[columna].fillna(moda)\n",
    "    print(f\"La moda de {columna} és {moda}\")"
   ]
  },
  {
   "cell_type": "code",
   "execution_count": 17,
   "metadata": {},
   "outputs": [
    {
     "name": "stdout",
     "output_type": "stream",
     "text": [
      "La mean de Estrellas és 4.108196721311475\n",
      "La mean de Opiniones és 781.7279411764706\n"
     ]
    }
   ],
   "source": [
    "columnas_mean = [\"Estrellas\", \"Opiniones\"]\n",
    "\n",
    "for columna in columnas_mean:\n",
    "    mean = db[columna].mean()\n",
    "    db[columna] = db[columna].fillna(mean)\n",
    "    print(f\"La mean de {columna} és {mean}\")"
   ]
  },
  {
   "cell_type": "code",
   "execution_count": 18,
   "metadata": {},
   "outputs": [
    {
     "name": "stdout",
     "output_type": "stream",
     "text": [
      "Nombre de files: 1874\n",
      "Nombre de columnes: 16\n",
      "Nombre de valors nuls per columna:\n",
      "URL                          3\n",
      "Asin                        41\n",
      "Precio                      82\n",
      "Precio Inicial              82\n",
      "Título                       1\n",
      "Estrellas                    0\n",
      "Opiniones                    0\n",
      "Marca                        0\n",
      "Modelo                       0\n",
      "Dimensiones                185\n",
      "RAM                          0\n",
      "Memoria                      0\n",
      "Sistema operativo          916\n",
      "Resolución pantalla        658\n",
      "Peso                       143\n",
      "Tecnología conectividad    538\n",
      "dtype: int64\n"
     ]
    }
   ],
   "source": [
    "num_rows, num_columns = db.shape\n",
    "print(f\"Nombre de files: {num_rows}\")\n",
    "print(f\"Nombre de columnes: {num_columns}\")\n",
    "print(\"Nombre de valors nuls per columna:\")\n",
    "print(db.isnull().sum())"
   ]
  }
 ],
 "metadata": {
  "kernelspec": {
   "display_name": "env_12",
   "language": "python",
   "name": "python3"
  },
  "language_info": {
   "codemirror_mode": {
    "name": "ipython",
    "version": 3
   },
   "file_extension": ".py",
   "mimetype": "text/x-python",
   "name": "python",
   "nbconvert_exporter": "python",
   "pygments_lexer": "ipython3",
   "version": "3.12.7"
  }
 },
 "nbformat": 4,
 "nbformat_minor": 2
}
