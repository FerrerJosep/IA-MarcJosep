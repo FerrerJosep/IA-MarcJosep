{
 "cells": [
  {
   "cell_type": "code",
   "execution_count": 13,
   "metadata": {},
   "outputs": [
    {
     "name": "stdout",
     "output_type": "stream",
     "text": [
      "Nombre de files: 1874\n",
      "Nombre de columnes: 24\n",
      "Nombre de valors nuls per columna:\n",
      "URL                           3\n",
      "Asin                         41\n",
      "Precio                       82\n",
      "Precio Inicial               82\n",
      "Título                        1\n",
      "Estrellas                   105\n",
      "Opiniones                   106\n",
      "Marca                        59\n",
      "Modelo                      126\n",
      "Año del modelo             1123\n",
      "Dimensiones                 185\n",
      "RAM                         231\n",
      "Memoria                     234\n",
      "Sistema operativo           916\n",
      "Resolución pantalla         658\n",
      "Tamaño pantalla            1693\n",
      "Relación aspecto           1441\n",
      "Peso                        143\n",
      "Tecnología conectividad     538\n",
      "Batería                    1855\n",
      "Cámara principal           1800\n",
      "Cámara frontal             1800\n",
      "Procesador                 1349\n",
      "Color                      1116\n",
      "dtype: int64\n"
     ]
    }
   ],
   "source": [
    "import pandas as pd\n",
    "\n",
    "db = pd.read_csv('../Data/mobils.csv')\n",
    "num_rows, num_columns = db.shape\n",
    "print(f\"Nombre de files: {num_rows}\")\n",
    "print(f\"Nombre de columnes: {num_columns}\")\n",
    "print(\"Nombre de valors nuls per columna:\")\n",
    "print(db.isnull().sum())"
   ]
  }
 ],
 "metadata": {
  "kernelspec": {
   "display_name": "env_12",
   "language": "python",
   "name": "python3"
  },
  "language_info": {
   "codemirror_mode": {
    "name": "ipython",
    "version": 3
   },
   "file_extension": ".py",
   "mimetype": "text/x-python",
   "name": "python",
   "nbconvert_exporter": "python",
   "pygments_lexer": "ipython3",
   "version": "3.12.7"
  }
 },
 "nbformat": 4,
 "nbformat_minor": 2
}
