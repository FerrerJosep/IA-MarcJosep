{
 "cells": [
  {
   "cell_type": "code",
   "execution_count": 21,
   "metadata": {},
   "outputs": [
    {
     "name": "stdout",
     "output_type": "stream",
     "text": [
      "Random Forest Train Accuracy: 100.00%\n",
      "Random Forest Test Accuracy: 100.00%\n",
      "\n"
     ]
    }
   ],
   "source": [
    "import pandas as pd\n",
    "import numpy as np\n",
    "from sklearn.model_selection import train_test_split\n",
    "from sklearn.ensemble import RandomForestClassifier\n",
    "from sklearn.metrics import accuracy_score\n",
    "from sklearn.preprocessing import StandardScaler\n",
    "from imblearn.over_sampling import SMOTE\n",
    "\n",
    "df = pd.read_csv('../Data/mobilsNET.csv')\n",
    "\n",
    "def preprocess_data():\n",
    "    df_copy = df.copy()\n",
    "    probabilidad_descuento = 0.3\n",
    "    descuento_threshold = df_copy['Precio'].quantile(probabilidad_descuento)\n",
    "    df_copy['target'] = df_copy['Precio'] < descuento_threshold\n",
    "    df_copy['Precio_descuento'] = df_copy['Precio'].where(\n",
    "        ~df_copy['target'], df_copy['Precio'] * (1 - np.random.uniform(0.01, 0.01, size=len(df_copy)))\n",
    "    )\n",
    "    df_copy[\"Precio Inicial\"] = df_copy[\"Precio Inicial\"].str.replace(\".\", \"\", regex=False).str.replace(\",\", \".\").astype(float)\n",
    "    df_copy = pd.get_dummies(df_copy, columns=[\"Marca\"], prefix=\"Marca\")\n",
    "    df_copy[[\"Ancho\", \"Alto\", \"Profundidad\"]] = df_copy[\"Dimensiones\"].str.replace(\",\", \".\").str.extract(r\"([\\d.]+) x ([\\d.]+) x ([\\d.]+)\").astype(float)\n",
    "    df_copy.drop(columns=[\"Dimensiones\", \"Unnamed: 0\"], inplace=True)\n",
    "    return df_copy\n",
    "\n",
    "def train_and_evaluate(df):\n",
    "    X = df.drop(columns=[\"target\", \"Precio_descuento\"])\n",
    "    y = df[\"target\"]\n",
    "    \n",
    "    # Balancear dataset con SMOTE\n",
    "    smote = SMOTE(random_state=42)\n",
    "    X_resampled, y_resampled = smote.fit_resample(X, y)\n",
    "    \n",
    "    X_train, X_test, y_train, y_test = train_test_split(X_resampled, y_resampled, test_size=0.2, random_state=42, stratify=y_resampled)\n",
    "    \n",
    "    # Escalar datos\n",
    "    scaler = StandardScaler()\n",
    "    X_train = scaler.fit_transform(X_train)\n",
    "    X_test = scaler.transform(X_test)\n",
    "    \n",
    "    # Random Forest como único modelo\n",
    "    model = RandomForestClassifier(n_estimators=300, max_depth=15, random_state=42)\n",
    "    model.fit(X_train, y_train)\n",
    "    \n",
    "    # Evaluación\n",
    "    y_train_pred = model.predict(X_train)\n",
    "    y_test_pred = model.predict(X_test)\n",
    "    \n",
    "    train_accuracy = accuracy_score(y_train, y_train_pred)\n",
    "    test_accuracy = accuracy_score(y_test, y_test_pred)\n",
    "    \n",
    "    print(f\"Random Forest Train Accuracy: {train_accuracy*100:.2f}%\")\n",
    "    print(f\"Random Forest Test Accuracy: {test_accuracy*100:.2f}%\")\n",
    "    \n",
    "    return model, train_accuracy, test_accuracy, X_train, X_test, y_train, y_test\n",
    "\n",
    "\n",
    "df_processed = preprocess_data()\n",
    "train_and_evaluate(df_processed)\n",
    "print()"
   ]
  },
  {
   "cell_type": "code",
   "execution_count": 22,
   "metadata": {},
   "outputs": [
    {
     "name": "stdout",
     "output_type": "stream",
     "text": [
      "Random Forest Train Accuracy: 100.00%\n",
      "Random Forest Test Accuracy: 100.00%\n"
     ]
    },
    {
     "data": {
      "image/png": "[encoded data removed]",
      "text/plain": [
       "<Figure size 600x400 with 1 Axes>"
      ]
     },
     "metadata": {},
     "output_type": "display_data"
    }
   ],
   "source": [
    "import matplotlib.pyplot as plt\n",
    "\n",
    "model, train_accuracy, test_accuracy, X_train, X_test, y_train, y_test = train_and_evaluate(df_processed)\n",
    "\n",
    "# Graficar\n",
    "plt.figure(figsize=(6, 4))\n",
    "plt.bar([\"Train Accuracy\", \"Test Accuracy\"], [train_accuracy, test_accuracy], color=['blue', 'red'])\n",
    "plt.ylim(0.5, 1.05)\n",
    "plt.ylabel(\"Accuracy\")\n",
    "plt.title(\"Evaluación del sobreajuste en Random Forest\")\n",
    "plt.show()"
   ]
  }
 ],
 "metadata": {
  "kernelspec": {
   "display_name": "ENV_12",
   "language": "python",
   "name": "python3"
  },
  "language_info": {
   "codemirror_mode": {
    "name": "ipython",
    "version": 3
   },
   "file_extension": ".py",
   "mimetype": "text/x-python",
   "name": "python",
   "nbconvert_exporter": "python",
   "pygments_lexer": "ipython3",
   "version": "3.12.8"
  }
 },
 "nbformat": 4,
 "nbformat_minor": 2
}
